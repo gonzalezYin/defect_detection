{
 "cells": [
  {
   "cell_type": "code",
   "execution_count": 1,
   "metadata": {},
   "outputs": [
    {
     "name": "stderr",
     "output_type": "stream",
     "text": [
      "/home/dulab/anaconda3/envs/pythonProject1/lib/python3.9/site-packages/tqdm/auto.py:22: TqdmWarning: IProgress not found. Please update jupyter and ipywidgets. See https://ipywidgets.readthedocs.io/en/stable/user_install.html\n",
      "  from .autonotebook import tqdm as notebook_tqdm\n"
     ]
    },
    {
     "data": {
      "text/plain": [
       "<matplotlib.pyplot._IonContext at 0x7f3db27c22b0>"
      ]
     },
     "execution_count": 1,
     "metadata": {},
     "output_type": "execute_result"
    }
   ],
   "source": [
    "from __future__ import print_function, division\n",
    "\n",
    "import torch\n",
    "import torch.nn as nn\n",
    "import torch.optim as optim\n",
    "from torch.optim import lr_scheduler\n",
    "import torch.backends.cudnn as cudnn\n",
    "import numpy as np\n",
    "import torchvision\n",
    "from torchvision import datasets, models, transforms\n",
    "from torchsummary import summary\n",
    "import matplotlib.pyplot as plt\n",
    "import time\n",
    "import os\n",
    "import copy\n",
    "\n",
    "cudnn.benchmark = True\n",
    "plt.ion()"
   ]
  },
  {
   "cell_type": "code",
   "execution_count": 2,
   "metadata": {},
   "outputs": [],
   "source": [
    "device = torch.device(\"cuda:0\" if torch.cuda.is_available() else \"cpu\")\n",
    "# device = torch.device(\"cpu\")"
   ]
  },
  {
   "cell_type": "code",
   "execution_count": 3,
   "metadata": {},
   "outputs": [],
   "source": [
    "# Data augmentation and normalization for training\n",
    "# Just normalization for validation\n",
    "data_transforms = {\n",
    "    'train': transforms.Compose([\n",
    "        transforms.Resize(224),\n",
    "        transforms.RandomPerspective(distortion_scale=0.6, p=1.0),\n",
    "        transforms.RandomRotation(degrees=(0, 180)),\n",
    "        transforms.RandomHorizontalFlip(p=0.5),\n",
    "        transforms.RandomVerticalFlip(p=0.5),\n",
    "        transforms.ToTensor(),\n",
    "        transforms.Normalize([0.485, 0.456, 0.406], [0.229, 0.224, 0.225])\n",
    "    ]),\n",
    "    'val': transforms.Compose([\n",
    "        transforms.Resize(224),\n",
    "        transforms.ToTensor(),\n",
    "        transforms.Normalize([0.485, 0.456, 0.406], [0.229, 0.224, 0.225])\n",
    "    ]),\n",
    "    'test': transforms.Compose([\n",
    "        transforms.Resize(224),\n",
    "        transforms.ToTensor(),\n",
    "        transforms.Normalize([0.485, 0.456, 0.406], [0.229, 0.224, 0.225])\n",
    "    ]),\n",
    "}\n"
   ]
  },
  {
   "cell_type": "code",
   "execution_count": 4,
   "metadata": {},
   "outputs": [],
   "source": [
    "data_dir = '/home/dulab/Downloads/transfer_learning/vgg16'\n",
    "\n",
    "test_datasets1 = datasets.ImageFolder(os.path.join(data_dir, 'carpet'), data_transforms['test'])\n",
    "test_dataloader1 = torch.utils.data.DataLoader(test_datasets1, batch_size=32, shuffle=True, num_workers=4)\n",
    "\n",
    "test_datasets2 = datasets.ImageFolder(os.path.join(data_dir, 'transistor'), data_transforms['test'])\n",
    "test_dataloader2 = torch.utils.data.DataLoader(test_datasets2, batch_size=32, shuffle=True, num_workers=4)\n",
    "\n",
    "test_datasets3 = datasets.ImageFolder(os.path.join(data_dir, 'bottle'), data_transforms['test'])\n",
    "test_dataloader3 = torch.utils.data.DataLoader(test_datasets3, batch_size=32, shuffle=True, num_workers=4)\n",
    "\n",
    "test_datasets4 = datasets.ImageFolder(os.path.join(data_dir, 'tile'), data_transforms['test'])\n",
    "test_dataloader4 = torch.utils.data.DataLoader(test_datasets4, batch_size=32, shuffle=True, num_workers=4)\n",
    "\n",
    "test_datasets5 = datasets.ImageFolder(os.path.join(data_dir, 'pill'), data_transforms['test'])\n",
    "test_dataloader5 = torch.utils.data.DataLoader(test_datasets5, batch_size=32, shuffle=True, num_workers=4)"
   ]
  },
  {
   "cell_type": "code",
   "execution_count": 5,
   "metadata": {},
   "outputs": [],
   "source": [
    "def evaluation(model, dataloader):\n",
    "    model.eval()\n",
    "    dataset_size = len(dataloader.dataset)\n",
    "    running_loss = 0.0\n",
    "    running_corrects = 0\n",
    "    \n",
    "    for inputs, labels in dataloader:\n",
    "        inputs = inputs.to(device)\n",
    "        labels = labels.to(device)\n",
    "                \n",
    "        # zero the parameter gradients\n",
    "#         optimizer.zero_grad()\n",
    "\n",
    "        # forward\n",
    "        with torch.no_grad():\n",
    "            outputs = model(inputs)\n",
    "            _, preds = torch.max(outputs, 1)\n",
    "            loss = criterion(outputs, labels)\n",
    "            \n",
    "            # statistics\n",
    "            running_loss += loss.item() * inputs.size(0)\n",
    "            running_corrects += torch.sum(preds == labels.data)\n",
    "    \n",
    "    epoch_loss = running_loss / dataset_size\n",
    "    epoch_acc = running_corrects.double() / dataset_size\n",
    "    return epoch_acc, epoch_loss"
   ]
  },
  {
   "cell_type": "code",
   "execution_count": 6,
   "metadata": {},
   "outputs": [],
   "source": [
    "criterion = nn.CrossEntropyLoss()"
   ]
  },
  {
   "cell_type": "code",
   "execution_count": 7,
   "metadata": {},
   "outputs": [],
   "source": [
    "save_dir = '/home/dulab/Downloads/transfer_learning/vgg16/model/vgg_aug_sche'\n",
    "model = []\n",
    "model.append(torch.load(os.path.join(save_dir,'vgg.pth')))\n",
    "model.append(torch.load(os.path.join(save_dir, 'vgg1.pth'))) \n",
    "model.append(torch.load(os.path.join(save_dir, 'vgg2.pth')))\n",
    "model.append(torch.load(os.path.join(save_dir, 'vgg3.pth')))\n",
    "model.append(torch.load(os.path.join(save_dir, 'vgg4.pth')))\n",
    "model.append(torch.load(os.path.join(save_dir, 'vgg5.pth')))"
   ]
  },
  {
   "cell_type": "code",
   "execution_count": 8,
   "metadata": {},
   "outputs": [
    {
     "name": "stdout",
     "output_type": "stream",
     "text": [
      "Test acc: 0.9596\n",
      "Test acc: 0.9318\n",
      "Test acc: 0.9116\n",
      "Test acc: 0.9596\n",
      "Test acc: 0.9141\n",
      "Test acc: 0.8687\n"
     ]
    }
   ],
   "source": [
    "carpet_test_acc = []\n",
    "for i in range(6):\n",
    "    test_acc, _ = evaluation(model[i], test_dataloader1)\n",
    "    print(f'Test acc: {test_acc:.4f}')\n",
    "    carpet_test_acc.append(test_acc.item())"
   ]
  },
  {
   "cell_type": "code",
   "execution_count": 9,
   "metadata": {},
   "outputs": [
    {
     "data": {
      "text/plain": [
       "[0.9595959595959597,\n",
       " 0.9318181818181819,\n",
       " 0.9116161616161617,\n",
       " 0.9595959595959597,\n",
       " 0.9141414141414143,\n",
       " 0.8686868686868687]"
      ]
     },
     "execution_count": 9,
     "metadata": {},
     "output_type": "execute_result"
    }
   ],
   "source": [
    "carpet_test_acc"
   ]
  },
  {
   "cell_type": "code",
   "execution_count": 10,
   "metadata": {},
   "outputs": [
    {
     "name": "stdout",
     "output_type": "stream",
     "text": [
      "Test acc: 0.1278\n",
      "Test acc: 0.1278\n",
      "Test acc: 0.1278\n",
      "Test acc: 0.1278\n",
      "Test acc: 0.1278\n",
      "Test acc: 0.1278\n"
     ]
    }
   ],
   "source": [
    "tran_test_acc = []\n",
    "for i in range(6):\n",
    "    test_acc, _ = evaluation(model[i], test_dataloader2)\n",
    "    print(f'Test acc: {test_acc:.4f}')\n",
    "    tran_test_acc.append(test_acc.item())"
   ]
  },
  {
   "cell_type": "code",
   "execution_count": 11,
   "metadata": {},
   "outputs": [
    {
     "name": "stdout",
     "output_type": "stream",
     "text": [
      "Test acc: 0.2192\n",
      "Test acc: 0.7397\n",
      "Test acc: 0.2158\n",
      "Test acc: 0.2158\n",
      "Test acc: 0.2158\n",
      "Test acc: 0.2158\n"
     ]
    }
   ],
   "source": [
    "bot_test_acc = []\n",
    "for i in range(6):\n",
    "    test_acc, _ = evaluation(model[i], test_dataloader3)\n",
    "    print(f'Test acc: {test_acc:.4f}')\n",
    "    bot_test_acc.append(test_acc.item())"
   ]
  },
  {
   "cell_type": "code",
   "execution_count": 12,
   "metadata": {},
   "outputs": [
    {
     "name": "stdout",
     "output_type": "stream",
     "text": [
      "Test acc: 0.2421\n",
      "Test acc: 0.2421\n",
      "Test acc: 0.3458\n",
      "Test acc: 0.2421\n",
      "Test acc: 0.3804\n",
      "Test acc: 0.2421\n"
     ]
    }
   ],
   "source": [
    "tile_test_acc = []\n",
    "for i in range(6):\n",
    "    test_acc, _ = evaluation(model[i], test_dataloader4)\n",
    "    print(f'Test acc: {test_acc:.4f}')\n",
    "    tile_test_acc.append(test_acc.item())"
   ]
  },
  {
   "cell_type": "code",
   "execution_count": 13,
   "metadata": {},
   "outputs": [
    {
     "name": "stdout",
     "output_type": "stream",
     "text": [
      "Test acc: 0.3226\n",
      "Test acc: 0.3226\n",
      "Test acc: 0.3226\n",
      "Test acc: 0.3157\n",
      "Test acc: 0.3134\n",
      "Test acc: 0.3203\n"
     ]
    }
   ],
   "source": [
    "pill_test_acc = []\n",
    "for i in range(6):\n",
    "    test_acc, _ = evaluation(model[i], test_dataloader5)\n",
    "    print(f'Test acc: {test_acc:.4f}')\n",
    "    pill_test_acc.append(test_acc.item())"
   ]
  },
  {
   "cell_type": "code",
   "execution_count": 14,
   "metadata": {},
   "outputs": [],
   "source": [
    "Y = [carpet_test_acc,\n",
    "     tran_test_acc,\n",
    "     bot_test_acc,\n",
    "     tile_test_acc,\n",
    "     pill_test_acc]"
   ]
  },
  {
   "cell_type": "code",
   "execution_count": 15,
   "metadata": {},
   "outputs": [
    {
     "data": {
      "image/png": "[encoded data removed]",
      "text/plain": [
       "<Figure size 640x480 with 1 Axes>"
      ]
     },
     "metadata": {},
     "output_type": "display_data"
    }
   ],
   "source": [
    "x = np.arange(6)\n",
    "plt.plot(x, Y[0], 'r-+', label='carpet')\n",
    "plt.plot(x, Y[1], 'b-o', label='transistor')  \n",
    "plt.plot(x, Y[2], 'm-o', label='bottle')\n",
    "plt.plot(x, Y[3], 'g-+', label='tile')\n",
    "plt.plot(x, Y[4], 'y-+', label='pill')\n",
    "plt.ylabel('Acc')\n",
    "plt.xlabel('Number of locked block(s)')\n",
    "title = 'Accuracy with different block(s) locked and different test data'\n",
    "plt.title(title)\n",
    "plt.legend()\n",
    "plt.show()"
   ]
  },
  {
   "cell_type": "code",
   "execution_count": null,
   "metadata": {},
   "outputs": [],
   "source": []
  }
 ],
 "metadata": {
  "kernelspec": {
   "display_name": "pythonProject1",
   "language": "python",
   "name": "pythonproject1"
  },
  "language_info": {
   "codemirror_mode": {
    "name": "ipython",
    "version": 3
   },
   "file_extension": ".py",
   "mimetype": "text/x-python",
   "name": "python",
   "nbconvert_exporter": "python",
   "pygments_lexer": "ipython3",
   "version": "3.9.11"
  }
 },
 "nbformat": 4,
 "nbformat_minor": 4
}
