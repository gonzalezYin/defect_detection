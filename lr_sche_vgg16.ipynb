{
 "cells": [
  {
   "cell_type": "code",
   "execution_count": null,
   "metadata": {},
   "outputs": [],
   "source": [
    "from __future__ import print_function, division\n",
    "\n",
    "import torch\n",
    "import torch.nn as nn\n",
    "import torch.optim as optim\n",
    "from torch.optim import lr_scheduler\n",
    "import torch.backends.cudnn as cudnn\n",
    "import numpy as np\n",
    "import torchvision\n",
    "from torchvision import datasets, models, transforms\n",
    "from torchsummary import summary\n",
    "import matplotlib.pyplot as plt\n",
    "import time\n",
    "import os\n",
    "import copy\n",
    "\n",
    "cudnn.benchmark = True\n",
    "plt.ion()"
   ]
  },
  {
   "cell_type": "code",
   "execution_count": null,
   "metadata": {},
   "outputs": [],
   "source": [
    "device = torch.device(\"cuda:0\" if torch.cuda.is_available() else \"cpu\")\n",
    "# device = torch.device(\"cpu\")"
   ]
  },
  {
   "cell_type": "code",
   "execution_count": null,
   "metadata": {},
   "outputs": [],
   "source": [
    "# Data augmentation and normalization for training\n",
    "# Just normalization for validation\n",
    "data_transforms = {\n",
    "    'train': transforms.Compose([\n",
    "        transforms.Resize(size=224, interpolation=torchvision.transforms.InterpolationMode.BICUBIC),    \n",
    "        transforms.RandomPerspective(distortion_scale=0.1, p=0.5),\n",
    "        transforms.RandomHorizontalFlip(p=0.5),\n",
    "        transforms.ToTensor(),\n",
    "        transforms.Normalize([0.485, 0.456, 0.406], [0.229, 0.224, 0.225])\n",
    "    ]),\n",
    "    'val': transforms.Compose([\n",
    "        transforms.Resize(224),\n",
    "        transforms.ToTensor(),\n",
    "        transforms.Normalize([0.485, 0.456, 0.406], [0.229, 0.224, 0.225])\n",
    "    ]),\n",
    "    'test': transforms.Compose([\n",
    "        transforms.Resize(224),\n",
    "        transforms.ToTensor(),\n",
    "        transforms.Normalize([0.485, 0.456, 0.406], [0.229, 0.224, 0.225])\n",
    "    ]),\n",
    "}\n",
    "\n",
    "data_dir = ''\n",
    "\n",
    "train_datasets = datasets.ImageFolder(os.path.join(data_dir, 'train'), data_transforms['train'])\n",
    "val_datasets = datasets.ImageFolder(os.path.join(data_dir, 'val'), data_transforms['val'])\n",
    "# test_datasets = datasets.ImageFolder(os.path.join(data_dir, 'test'), data_transforms['test'])\n",
    "\n",
    "train_dataloader = torch.utils.data.DataLoader(train_datasets, batch_size=32, shuffle=True, num_workers=4)\n",
    "val_dataloader = torch.utils.data.DataLoader(val_datasets, batch_size=32, shuffle=True, num_workers=4)\n",
    "# test_dataloader = torch.utils.data.DataLoader(test_datasets, batch_size=32, shuffle=True, num_workers=4)\n",
    "\n",
    "class_names = train_datasets.classes"
   ]
  },
  {
   "cell_type": "code",
   "execution_count": null,
   "metadata": {},
   "outputs": [],
   "source": [
    "def evaluation(model, dataloader):\n",
    "    model.eval()\n",
    "    dataset_size = len(dataloader.dataset)\n",
    "    running_loss = 0.0\n",
    "    running_corrects = 0\n",
    "    \n",
    "    for inputs, labels in dataloader:\n",
    "        inputs = inputs.to(device)\n",
    "        labels = labels.to(device)\n",
    "                \n",
    "        # zero the parameter gradients\n",
    "        optimizer.zero_grad()\n",
    "\n",
    "        # forward\n",
    "        with torch.no_grad():\n",
    "            outputs = model(inputs)\n",
    "            _, preds = torch.max(outputs, 1)\n",
    "            loss = criterion(outputs, labels)\n",
    "            \n",
    "            # statistics\n",
    "            running_loss += loss.item() * inputs.size(0)\n",
    "            running_corrects += torch.sum(preds == labels.data)\n",
    "    \n",
    "    epoch_loss = running_loss / dataset_size\n",
    "    epoch_acc = running_corrects.double() / dataset_size\n",
    "    return epoch_acc, epoch_loss"
   ]
  },
  {
   "cell_type": "code",
   "execution_count": null,
   "metadata": {},
   "outputs": [],
   "source": [
    "def train_model(model, criterion, optimizer, scheduler, num_epochs):\n",
    "    since = time.time()\n",
    "    best_model_wts = copy.deepcopy(model.state_dict())\n",
    "    best_val_acc = 0.0\n",
    "    val_epoch_acc = 0 \n",
    "    train_dataset_size = len(train_dataloader.dataset)\n",
    "    train_loss = []\n",
    "    val_loss = []\n",
    "    train_acc = []\n",
    "    val_acc = []\n",
    "   \n",
    "    for epoch in range(num_epochs):\n",
    "        print(f'Epoch {epoch}/{num_epochs - 1}')\n",
    "        print('-' * 10)\n",
    "        \n",
    "        running_loss = 0.0\n",
    "        running_corrects = 0\n",
    "        i = 0\n",
    "            \n",
    "        model.train() \n",
    "        # Iterate over data during the training stage.\n",
    "        for inputs, labels in train_dataloader:\n",
    "            i = i+1\n",
    "            inputs = inputs.to(device)\n",
    "            labels = labels.to(device)\n",
    "            \n",
    "            # zero the parameter gradients\n",
    "            optimizer.zero_grad()\n",
    "\n",
    "            # forward\n",
    "            with torch.set_grad_enabled(True):\n",
    "                outputs = model(inputs)\n",
    "                _, preds = torch.max(outputs, 1)\n",
    "                loss = criterion(outputs, labels)\n",
    "\n",
    "                # backward + optimize  phase\n",
    "                loss.backward()\n",
    "                optimizer.step()\n",
    "\n",
    "                # statistics\n",
    "                running_loss += loss.item() * inputs.size(0)\n",
    "                running_corrects += torch.sum(preds == labels.data)\n",
    "                \n",
    "        scheduler.step()\n",
    "                \n",
    "        train_epoch_loss = running_loss / train_dataset_size\n",
    "        train_loss.append(train_epoch_loss)\n",
    "        train_epoch_acc = running_corrects.double() / train_dataset_size\n",
    "        train_acc.append(train_epoch_acc.item())\n",
    "        print(f'Train loss: {train_epoch_loss:.4f} Training_acc: {train_epoch_acc:.4f}')\n",
    "        \n",
    "        val_since = time.time()\n",
    "        val_epoch_acc, val_epoch_loss = evaluation(model, val_dataloader)\n",
    "        val_loss.append(val_epoch_loss)\n",
    "        val_acc.append(val_epoch_acc.item())\n",
    "        val_time = time.time() - val_since\n",
    "        print(f'Val complete in {val_time:4f} seconds.')\n",
    "        print(f'Val loss: {val_epoch_loss:.4f} Val acc: {val_epoch_acc:.4f}')\n",
    "        \n",
    "        # deep copy the model\n",
    "        if  val_epoch_acc > best_val_acc:\n",
    "            best_val_acc = val_epoch_acc\n",
    "            best_model_wts = copy.deepcopy(model.state_dict())\n",
    "\n",
    "        print(i)\n",
    "\n",
    "    time_elapsed = time.time() - since\n",
    "    print(f'Training and validation complete in {time_elapsed // 60:.0f}m {time_elapsed % 60:.4f}s')\n",
    "    print(f'Best Val Acc: {best_val_acc:4f}')\n",
    "    \n",
    "    # load best model weights\n",
    "    model.load_state_dict(best_model_wts)\n",
    "    return model, train_loss, train_acc, val_loss, val_acc"
   ]
  },
  {
   "cell_type": "code",
   "execution_count": null,
   "metadata": {},
   "outputs": [],
   "source": [
    "def loss_plot(train_loss, val_loss, index, epoch_num, lr):\n",
    "    x = np.arange(epoch_num)\n",
    "    plt.plot(x, train_loss, 'r-+', label='Train loss')\n",
    "    plt.plot(x, val_loss, 'b-o', label='Val loss')  \n",
    "    plt.ylabel('Loss')\n",
    "    plt.xlabel('Epoch')\n",
    "    title = 'Train and val loss with ' + str(index) + ' layer(s) locked and learning rate set to ' + str(lr)\n",
    "    plt.title(title)\n",
    "    plt.legend()\n",
    "    plt.show()"
   ]
  },
  {
   "cell_type": "code",
   "execution_count": null,
   "metadata": {},
   "outputs": [],
   "source": [
    "def acc_plot(train_acc, val_acc, index, epoch_num, lr):\n",
    "    x = np.arange(epoch_num)\n",
    "    plt.plot(x, train_acc, 'r-+', label='Train acc')\n",
    "    plt.plot(x, val_acc, 'b-o', label='Val acc')  \n",
    "    plt.ylabel('Loss')\n",
    "    plt.xlabel('Epoch')\n",
    "    title = 'Train and val acc with ' + str(index) + ' layer(s) locked and learning rate set to ' + str(lr)\n",
    "    plt.title(title)\n",
    "    plt.legend()\n",
    "    plt.show()"
   ]
  },
  {
   "cell_type": "code",
   "execution_count": null,
   "metadata": {},
   "outputs": [],
   "source": [
    "best_test_acc_list = []\n",
    "epoch_num = 30\n",
    "criterion = nn.CrossEntropyLoss()"
   ]
  },
  {
   "cell_type": "code",
   "execution_count": null,
   "metadata": {},
   "outputs": [],
   "source": [
    "learning_rate = [1e-4, 5e-5, 3e-5, 1e-5, 5e-6, 1e-6]\n",
    "train_loss_list = []\n",
    "val_loss_list = []\n",
    "train_acc_list = []\n",
    "val_acc_list = []"
   ]
  },
  {
   "cell_type": "code",
   "execution_count": null,
   "metadata": {},
   "outputs": [],
   "source": [
    "vgg16 = models.vgg16(pretrained=True)\n",
    "vgg16.classifier[3] = nn.Linear(4096, 1000)\n",
    "vgg16.classifier[6] = nn.Linear(1000, 2)\n",
    "nn.init.xavier_uniform_(vgg16.classifier[3].weight)\n",
    "nn.init.xavier_uniform_(vgg16.classifier[6].weight)\n",
    "vgg16 = vgg16.to(device)"
   ]
  },
  {
   "cell_type": "code",
   "execution_count": null,
   "metadata": {},
   "outputs": [],
   "source": [
    "vgg16"
   ]
  },
  {
   "cell_type": "code",
   "execution_count": null,
   "metadata": {},
   "outputs": [],
   "source": [
    "for lr in learning_rate:\n",
    "    print(lr)\n",
    "    \n",
    "    vgg16 = models.vgg16(pretrained=True)\n",
    "    vgg16.classifier[3] = nn.Linear(4096, 1000)\n",
    "    vgg16.classifier[6] = nn.Linear(1000, 2)\n",
    "    nn.init.xavier_uniform_(vgg16.classifier[3].weight)\n",
    "    nn.init.xavier_uniform_(vgg16.classifier[6].weight)\n",
    "    vgg16 = vgg16.to(device)\n",
    "    \n",
    "    optimizer = torch.optim.Adam([{'params': vgg16.features.parameters()}, \n",
    "        {'params': vgg16.classifier.parameters(), 'lr': lr * 10}], \n",
    "        lr=lr, weight_decay=0.001)\n",
    "    # Decay LR by a factor of 0.1 every 10 epochs\n",
    "    exp_lr_scheduler = lr_scheduler.StepLR(optimizer, step_size=10, gamma=0.1)\n",
    "    vgg16, train_loss, train_acc, val_loss, val_acc = train_model(vgg16, criterion, optimizer, exp_lr_scheduler, epoch_num)\n",
    "    train_loss_list.append(train_loss)\n",
    "    train_acc_list.append(train_acc)\n",
    "    val_loss_list.append(val_loss)\n",
    "    val_acc_list.append(val_acc)"
   ]
  },
  {
   "cell_type": "code",
   "execution_count": null,
   "metadata": {},
   "outputs": [],
   "source": [
    "for i in range(6):\n",
    "    loss_plot(train_loss_list[i], val_loss_list[i], 0, epoch_num, learning_rate[i])"
   ]
  },
  {
   "cell_type": "code",
   "execution_count": null,
   "metadata": {},
   "outputs": [],
   "source": [
    "for i in range(6):\n",
    "    acc_plot(train_acc_list[i], val_acc_list[i], 0, epoch_num, learning_rate[i])"
   ]
  },
  {
   "cell_type": "code",
   "execution_count": null,
   "metadata": {},
   "outputs": [],
   "source": []
  }
 ],
 "metadata": {
  "kernelspec": {
   "display_name": "pythonProject1",
   "language": "python",
   "name": "pythonproject1"
  },
  "language_info": {
   "codemirror_mode": {
    "name": "ipython",
    "version": 3
   },
   "file_extension": ".py",
   "mimetype": "text/x-python",
   "name": "python",
   "nbconvert_exporter": "python",
   "pygments_lexer": "ipython3",
   "version": "3.9.11"
  }
 },
 "nbformat": 4,
 "nbformat_minor": 4
}
