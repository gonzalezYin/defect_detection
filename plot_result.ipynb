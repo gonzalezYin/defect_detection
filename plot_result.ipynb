{
 "cells": [
  {
   "cell_type": "code",
   "execution_count": 2,
   "id": "d62f7f1a",
   "metadata": {},
   "outputs": [],
   "source": [
    "import matplotlib.pyplot as plt\n",
    "import numpy as np"
   ]
  },
  {
   "cell_type": "code",
   "execution_count": 3,
   "id": "ea7787ac",
   "metadata": {},
   "outputs": [],
   "source": [
    "Y = np.array([[0.8425, 0.6678, 0.3596, 0.5479, 0.2055, 0.2089],\n",
    "             [0.2222, 0.9268, 0.9167, 0.8359, 0.4672, 0.2222],\n",
    "             [0.8030, 0.8384, 0.8157, 0.9217, 0.2222, 0.7197],\n",
    "             [0.7778, 0.7778, 0.7778, 0.7929, 0.7778,0.7803],\n",
    "             [0.5833, 0.3750, 0.3958, 0.5208, 0.5833, 0.5833],\n",
    "             ])"
   ]
  },
  {
   "cell_type": "code",
   "execution_count": 1,
   "id": "a28e2600",
   "metadata": {},
   "outputs": [
    {
     "ename": "NameError",
     "evalue": "name 'np' is not defined",
     "output_type": "error",
     "traceback": [
      "\u001b[0;31m---------------------------------------------------------------------------\u001b[0m",
      "\u001b[0;31mNameError\u001b[0m                                 Traceback (most recent call last)",
      "Cell \u001b[0;32mIn [1], line 1\u001b[0m\n\u001b[0;32m----> 1\u001b[0m x \u001b[38;5;241m=\u001b[39m \u001b[43mnp\u001b[49m\u001b[38;5;241m.\u001b[39marange(\u001b[38;5;241m6\u001b[39m)\n\u001b[1;32m      2\u001b[0m plt\u001b[38;5;241m.\u001b[39mplot(x, Y[\u001b[38;5;241m0\u001b[39m], \u001b[38;5;124m'\u001b[39m\u001b[38;5;124mr-+\u001b[39m\u001b[38;5;124m'\u001b[39m, label\u001b[38;5;241m=\u001b[39m\u001b[38;5;124m'\u001b[39m\u001b[38;5;124m14 classes\u001b[39m\u001b[38;5;124m'\u001b[39m)\n\u001b[1;32m      3\u001b[0m plt\u001b[38;5;241m.\u001b[39mplot(x, Y[\u001b[38;5;241m1\u001b[39m], \u001b[38;5;124m'\u001b[39m\u001b[38;5;124mb-o\u001b[39m\u001b[38;5;124m'\u001b[39m, label\u001b[38;5;241m=\u001b[39m\u001b[38;5;124m'\u001b[39m\u001b[38;5;124m9 classes\u001b[39m\u001b[38;5;124m'\u001b[39m)  \n",
      "\u001b[0;31mNameError\u001b[0m: name 'np' is not defined"
     ]
    }
   ],
   "source": [
    "x = np.arange(6)\n",
    "plt.plot(x, Y[0], 'r-+', label='14 classes')\n",
    "plt.plot(x, Y[1], 'b-o', label='9 classes')  \n",
    "plt.plot(x, Y[2], 'g-o', label='4 classes')\n",
    "plt.plot(x, Y[3], 'y-+', label='2 classes')\n",
    "plt.plot(x, Y[4], 'b-+', label='1 class')\n",
    "plt.ylabel('Acc')\n",
    "plt.xlabel('Number of locked layer(s)')\n",
    "title = 'Accuracy with different layer(s) locked under different size of dataset'\n",
    "plt.title(title)\n",
    "plt.legend()\n",
    "plt.show()"
   ]
  },
  {
   "cell_type": "code",
   "execution_count": null,
   "id": "71890b82",
   "metadata": {},
   "outputs": [],
   "source": []
  }
 ],
 "metadata": {
  "kernelspec": {
   "display_name": "pythonProject1",
   "language": "python",
   "name": "pythonproject1"
  },
  "language_info": {
   "codemirror_mode": {
    "name": "ipython",
    "version": 3
   },
   "file_extension": ".py",
   "mimetype": "text/x-python",
   "name": "python",
   "nbconvert_exporter": "python",
   "pygments_lexer": "ipython3",
   "version": "3.9.11"
  }
 },
 "nbformat": 4,
 "nbformat_minor": 5
}
